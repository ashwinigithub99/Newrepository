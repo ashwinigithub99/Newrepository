{
 "cells": [
  {
   "cell_type": "code",
   "execution_count": 2,
   "id": "cab487e7",
   "metadata": {},
   "outputs": [
    {
     "name": "stdout",
     "output_type": "stream",
     "text": [
      "Hello world!\n"
     ]
    }
   ],
   "source": [
    "print(\"Hello world!\")"
   ]
  },
  {
   "cell_type": "code",
   "execution_count": 1,
   "id": "7b3d260a",
   "metadata": {},
   "outputs": [
    {
     "name": "stdout",
     "output_type": "stream",
     "text": [
      "nice job!\n"
     ]
    }
   ],
   "source": [
    "print(\"nice job!\")"
   ]
  },
  {
   "cell_type": "code",
   "execution_count": null,
   "id": "d10103dc",
   "metadata": {},
   "outputs": [],
   "source": []
  }
 ],
 "metadata": {
  "kernelspec": {
   "display_name": "Python 3",
   "language": "python",
   "name": "python3"
  },
  "language_info": {
   "codemirror_mode": {
    "name": "ipython",
    "version": 3
   },
   "file_extension": ".py",
   "mimetype": "text/x-python",
   "name": "python",
   "nbconvert_exporter": "python",
   "pygments_lexer": "ipython3",
   "version": "3.11.0"
  },
  "vscode": {
   "interpreter": {
    "hash": "72c245d4c715ae42ddec0d65b0b185cff853f6ea28ccb116f814323c254174b4"
   }
  }
 },
 "nbformat": 4,
 "nbformat_minor": 5
}
